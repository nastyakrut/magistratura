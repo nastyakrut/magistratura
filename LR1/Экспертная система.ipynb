{
 "cells": [
  {
   "cell_type": "code",
   "execution_count": 1,
   "id": "9f99e12c",
   "metadata": {},
   "outputs": [],
   "source": [
    "import numpy as np\n",
    "import pandas as pd\n",
    "import seaborn as sns"
   ]
  },
  {
   "cell_type": "markdown",
   "id": "f1604351",
   "metadata": {},
   "source": [
    "## Информация о продажах за 12 месяцев"
   ]
  },
  {
   "cell_type": "code",
   "execution_count": 2,
   "id": "c1652060",
   "metadata": {},
   "outputs": [],
   "source": [
    "dannie = {\n",
    "    'Бумага': np.random.normal(400, 50, 12),\n",
    "    'Карандаш': np.random.normal(50, 6, 12),\n",
    "    'Ручка': np.random.normal(70, 15, 12),\n",
    "    'Тетрадь': np.random.normal(60, 4, 12),\n",
    "    'Файлик': np.random.normal(10, 2, 12),\n",
    "    'Коробка': np.random.normal(100, 49, 12),\n",
    "    'Фломастер': np.random.normal(34, 5, 12),\n",
    "    'Скотч': np.random.normal(120, 10, 12),\n",
    "    'Ножницы': np.random.normal(250, 10, 12),\n",
    "    'Маркер': np.random.normal(49, 15, 12),\n",
    "}"
   ]
  },
  {
   "cell_type": "code",
   "execution_count": 3,
   "id": "ce5c2e45",
   "metadata": {},
   "outputs": [
    {
     "data": {
      "text/html": [
       "<div>\n",
       "<style scoped>\n",
       "    .dataframe tbody tr th:only-of-type {\n",
       "        vertical-align: middle;\n",
       "    }\n",
       "\n",
       "    .dataframe tbody tr th {\n",
       "        vertical-align: top;\n",
       "    }\n",
       "\n",
       "    .dataframe thead th {\n",
       "        text-align: right;\n",
       "    }\n",
       "</style>\n",
       "<table border=\"1\" class=\"dataframe\">\n",
       "  <thead>\n",
       "    <tr style=\"text-align: right;\">\n",
       "      <th></th>\n",
       "      <th>Бумага</th>\n",
       "      <th>Карандаш</th>\n",
       "      <th>Ручка</th>\n",
       "      <th>Тетрадь</th>\n",
       "      <th>Файлик</th>\n",
       "      <th>Коробка</th>\n",
       "      <th>Фломастер</th>\n",
       "      <th>Скотч</th>\n",
       "      <th>Ножницы</th>\n",
       "      <th>Маркер</th>\n",
       "    </tr>\n",
       "  </thead>\n",
       "  <tbody>\n",
       "    <tr>\n",
       "      <th>0</th>\n",
       "      <td>379.369411</td>\n",
       "      <td>41.429775</td>\n",
       "      <td>86.248089</td>\n",
       "      <td>61.872077</td>\n",
       "      <td>10.532781</td>\n",
       "      <td>164.778849</td>\n",
       "      <td>43.032863</td>\n",
       "      <td>115.882788</td>\n",
       "      <td>244.873633</td>\n",
       "      <td>80.153647</td>\n",
       "    </tr>\n",
       "    <tr>\n",
       "      <th>1</th>\n",
       "      <td>530.534569</td>\n",
       "      <td>42.099639</td>\n",
       "      <td>69.382978</td>\n",
       "      <td>60.949448</td>\n",
       "      <td>9.454469</td>\n",
       "      <td>93.993990</td>\n",
       "      <td>25.690371</td>\n",
       "      <td>136.969439</td>\n",
       "      <td>261.665442</td>\n",
       "      <td>57.006888</td>\n",
       "    </tr>\n",
       "    <tr>\n",
       "      <th>2</th>\n",
       "      <td>357.190162</td>\n",
       "      <td>56.506811</td>\n",
       "      <td>61.976262</td>\n",
       "      <td>58.098694</td>\n",
       "      <td>7.539260</td>\n",
       "      <td>99.595259</td>\n",
       "      <td>36.144496</td>\n",
       "      <td>114.573288</td>\n",
       "      <td>232.968859</td>\n",
       "      <td>57.111798</td>\n",
       "    </tr>\n",
       "    <tr>\n",
       "      <th>3</th>\n",
       "      <td>348.463276</td>\n",
       "      <td>50.713992</td>\n",
       "      <td>62.719538</td>\n",
       "      <td>59.711250</td>\n",
       "      <td>8.935053</td>\n",
       "      <td>124.777159</td>\n",
       "      <td>30.315549</td>\n",
       "      <td>113.538079</td>\n",
       "      <td>235.042465</td>\n",
       "      <td>40.456132</td>\n",
       "    </tr>\n",
       "    <tr>\n",
       "      <th>4</th>\n",
       "      <td>345.870135</td>\n",
       "      <td>45.077543</td>\n",
       "      <td>87.123308</td>\n",
       "      <td>62.183908</td>\n",
       "      <td>10.408008</td>\n",
       "      <td>120.786316</td>\n",
       "      <td>35.766781</td>\n",
       "      <td>123.499149</td>\n",
       "      <td>240.357655</td>\n",
       "      <td>47.799541</td>\n",
       "    </tr>\n",
       "    <tr>\n",
       "      <th>5</th>\n",
       "      <td>373.222767</td>\n",
       "      <td>49.734776</td>\n",
       "      <td>55.707293</td>\n",
       "      <td>60.740620</td>\n",
       "      <td>6.885030</td>\n",
       "      <td>119.974486</td>\n",
       "      <td>34.340903</td>\n",
       "      <td>120.904634</td>\n",
       "      <td>242.757602</td>\n",
       "      <td>35.304817</td>\n",
       "    </tr>\n",
       "    <tr>\n",
       "      <th>6</th>\n",
       "      <td>406.869007</td>\n",
       "      <td>55.308229</td>\n",
       "      <td>69.039671</td>\n",
       "      <td>62.386726</td>\n",
       "      <td>9.541734</td>\n",
       "      <td>88.845956</td>\n",
       "      <td>23.653418</td>\n",
       "      <td>123.170770</td>\n",
       "      <td>242.854270</td>\n",
       "      <td>40.635271</td>\n",
       "    </tr>\n",
       "    <tr>\n",
       "      <th>7</th>\n",
       "      <td>293.903529</td>\n",
       "      <td>54.463332</td>\n",
       "      <td>55.468960</td>\n",
       "      <td>63.861889</td>\n",
       "      <td>11.999090</td>\n",
       "      <td>75.735889</td>\n",
       "      <td>24.444151</td>\n",
       "      <td>110.125151</td>\n",
       "      <td>253.275743</td>\n",
       "      <td>43.241416</td>\n",
       "    </tr>\n",
       "    <tr>\n",
       "      <th>8</th>\n",
       "      <td>400.448649</td>\n",
       "      <td>51.212742</td>\n",
       "      <td>68.713686</td>\n",
       "      <td>66.445123</td>\n",
       "      <td>7.204692</td>\n",
       "      <td>-9.226051</td>\n",
       "      <td>34.972863</td>\n",
       "      <td>115.406754</td>\n",
       "      <td>267.904098</td>\n",
       "      <td>22.211765</td>\n",
       "    </tr>\n",
       "    <tr>\n",
       "      <th>9</th>\n",
       "      <td>409.996290</td>\n",
       "      <td>49.869027</td>\n",
       "      <td>78.643044</td>\n",
       "      <td>59.588795</td>\n",
       "      <td>10.994080</td>\n",
       "      <td>105.766924</td>\n",
       "      <td>30.740600</td>\n",
       "      <td>115.103298</td>\n",
       "      <td>242.219991</td>\n",
       "      <td>42.866949</td>\n",
       "    </tr>\n",
       "    <tr>\n",
       "      <th>10</th>\n",
       "      <td>444.887947</td>\n",
       "      <td>54.438434</td>\n",
       "      <td>82.758545</td>\n",
       "      <td>54.437222</td>\n",
       "      <td>7.699375</td>\n",
       "      <td>117.345810</td>\n",
       "      <td>36.740545</td>\n",
       "      <td>130.770159</td>\n",
       "      <td>244.567328</td>\n",
       "      <td>13.839457</td>\n",
       "    </tr>\n",
       "    <tr>\n",
       "      <th>11</th>\n",
       "      <td>426.197853</td>\n",
       "      <td>55.416949</td>\n",
       "      <td>45.758876</td>\n",
       "      <td>58.032196</td>\n",
       "      <td>11.140715</td>\n",
       "      <td>13.814263</td>\n",
       "      <td>27.111195</td>\n",
       "      <td>115.930608</td>\n",
       "      <td>245.700568</td>\n",
       "      <td>57.947131</td>\n",
       "    </tr>\n",
       "  </tbody>\n",
       "</table>\n",
       "</div>"
      ],
      "text/plain": [
       "        Бумага   Карандаш      Ручка    Тетрадь     Файлик     Коробка  \\\n",
       "0   379.369411  41.429775  86.248089  61.872077  10.532781  164.778849   \n",
       "1   530.534569  42.099639  69.382978  60.949448   9.454469   93.993990   \n",
       "2   357.190162  56.506811  61.976262  58.098694   7.539260   99.595259   \n",
       "3   348.463276  50.713992  62.719538  59.711250   8.935053  124.777159   \n",
       "4   345.870135  45.077543  87.123308  62.183908  10.408008  120.786316   \n",
       "5   373.222767  49.734776  55.707293  60.740620   6.885030  119.974486   \n",
       "6   406.869007  55.308229  69.039671  62.386726   9.541734   88.845956   \n",
       "7   293.903529  54.463332  55.468960  63.861889  11.999090   75.735889   \n",
       "8   400.448649  51.212742  68.713686  66.445123   7.204692   -9.226051   \n",
       "9   409.996290  49.869027  78.643044  59.588795  10.994080  105.766924   \n",
       "10  444.887947  54.438434  82.758545  54.437222   7.699375  117.345810   \n",
       "11  426.197853  55.416949  45.758876  58.032196  11.140715   13.814263   \n",
       "\n",
       "    Фломастер       Скотч     Ножницы     Маркер  \n",
       "0   43.032863  115.882788  244.873633  80.153647  \n",
       "1   25.690371  136.969439  261.665442  57.006888  \n",
       "2   36.144496  114.573288  232.968859  57.111798  \n",
       "3   30.315549  113.538079  235.042465  40.456132  \n",
       "4   35.766781  123.499149  240.357655  47.799541  \n",
       "5   34.340903  120.904634  242.757602  35.304817  \n",
       "6   23.653418  123.170770  242.854270  40.635271  \n",
       "7   24.444151  110.125151  253.275743  43.241416  \n",
       "8   34.972863  115.406754  267.904098  22.211765  \n",
       "9   30.740600  115.103298  242.219991  42.866949  \n",
       "10  36.740545  130.770159  244.567328  13.839457  \n",
       "11  27.111195  115.930608  245.700568  57.947131  "
      ]
     },
     "execution_count": 3,
     "metadata": {},
     "output_type": "execute_result"
    }
   ],
   "source": [
    "dannief = pd.DataFrame(dannie)\n",
    "dannief"
   ]
  },
  {
   "cell_type": "markdown",
   "id": "4610f177",
   "metadata": {},
   "source": [
    "## Обработка данных"
   ]
  },
  {
   "cell_type": "code",
   "execution_count": 4,
   "id": "3c17a245",
   "metadata": {},
   "outputs": [
    {
     "data": {
      "image/png": "[encoded data removed]",
      "text/plain": [
       "<Figure size 640x480 with 1 Axes>"
      ]
     },
     "metadata": {},
     "output_type": "display_data"
    }
   ],
   "source": [
    "ax = sns.lineplot(dannief)\n",
    "sns.move_legend(ax, \"upper left\", bbox_to_anchor=(1, 1))"
   ]
  },
  {
   "cell_type": "code",
   "execution_count": 5,
   "id": "98b8f555",
   "metadata": {},
   "outputs": [
    {
     "data": {
      "text/plain": [
       "Бумага       393.079466\n",
       "Карандаш      50.522604\n",
       "Ручка         68.628354\n",
       "Тетрадь       60.692329\n",
       "Файлик         9.361190\n",
       "Коробка       93.015737\n",
       "Фломастер     31.912811\n",
       "Скотч        119.656176\n",
       "Ножницы      246.182304\n",
       "Маркер        44.881234\n",
       "dtype: float64"
      ]
     },
     "execution_count": 5,
     "metadata": {},
     "output_type": "execute_result"
    }
   ],
   "source": [
    "p0 = dannief.sum() / dannief.shape[0]\n",
    "p0"
   ]
  },
  {
   "cell_type": "code",
   "execution_count": 6,
   "id": "21c5d8e6",
   "metadata": {},
   "outputs": [
    {
     "data": {
      "text/plain": [
       "Бумага       59.643620\n",
       "Карандаш      5.208088\n",
       "Ручка        13.127077\n",
       "Тетрадь       3.086727\n",
       "Файлик        1.714797\n",
       "Коробка      48.145368\n",
       "Фломастер     5.913624\n",
       "Скотч         7.821654\n",
       "Ножницы      10.169275\n",
       "Маркер       17.408347\n",
       "dtype: float64"
      ]
     },
     "execution_count": 6,
     "metadata": {},
     "output_type": "execute_result"
    }
   ],
   "source": [
    "std = ((dannief - p0) ** 2).sum() / (dannief.shape[0] - 1)\n",
    "std = std ** (1 / 2)\n",
    "std"
   ]
  },
  {
   "cell_type": "code",
   "execution_count": 7,
   "id": "98942088",
   "metadata": {},
   "outputs": [
    {
     "data": {
      "text/html": [
       "<div>\n",
       "<style scoped>\n",
       "    .dataframe tbody tr th:only-of-type {\n",
       "        vertical-align: middle;\n",
       "    }\n",
       "\n",
       "    .dataframe tbody tr th {\n",
       "        vertical-align: top;\n",
       "    }\n",
       "\n",
       "    .dataframe thead th {\n",
       "        text-align: right;\n",
       "    }\n",
       "</style>\n",
       "<table border=\"1\" class=\"dataframe\">\n",
       "  <thead>\n",
       "    <tr style=\"text-align: right;\">\n",
       "      <th></th>\n",
       "      <th>Бумага</th>\n",
       "      <th>Карандаш</th>\n",
       "      <th>Ручка</th>\n",
       "      <th>Тетрадь</th>\n",
       "      <th>Файлик</th>\n",
       "      <th>Коробка</th>\n",
       "      <th>Фломастер</th>\n",
       "      <th>Скотч</th>\n",
       "      <th>Ножницы</th>\n",
       "      <th>Маркер</th>\n",
       "    </tr>\n",
       "  </thead>\n",
       "  <tbody>\n",
       "    <tr>\n",
       "      <th>0</th>\n",
       "      <td>379.369411</td>\n",
       "      <td>41.429775</td>\n",
       "      <td>86.248089</td>\n",
       "      <td>61.872077</td>\n",
       "      <td>10.532781</td>\n",
       "      <td>164.778849</td>\n",
       "      <td>43.032863</td>\n",
       "      <td>115.882788</td>\n",
       "      <td>244.873633</td>\n",
       "      <td>80.153647</td>\n",
       "    </tr>\n",
       "    <tr>\n",
       "      <th>1</th>\n",
       "      <td>530.534569</td>\n",
       "      <td>42.099639</td>\n",
       "      <td>69.382978</td>\n",
       "      <td>60.949448</td>\n",
       "      <td>9.454469</td>\n",
       "      <td>93.993990</td>\n",
       "      <td>25.690371</td>\n",
       "      <td>136.969439</td>\n",
       "      <td>261.665442</td>\n",
       "      <td>57.006888</td>\n",
       "    </tr>\n",
       "    <tr>\n",
       "      <th>2</th>\n",
       "      <td>357.190162</td>\n",
       "      <td>56.506811</td>\n",
       "      <td>61.976262</td>\n",
       "      <td>58.098694</td>\n",
       "      <td>7.539260</td>\n",
       "      <td>99.595259</td>\n",
       "      <td>36.144496</td>\n",
       "      <td>114.573288</td>\n",
       "      <td>232.968859</td>\n",
       "      <td>57.111798</td>\n",
       "    </tr>\n",
       "    <tr>\n",
       "      <th>3</th>\n",
       "      <td>348.463276</td>\n",
       "      <td>50.713992</td>\n",
       "      <td>62.719538</td>\n",
       "      <td>59.711250</td>\n",
       "      <td>8.935053</td>\n",
       "      <td>124.777159</td>\n",
       "      <td>30.315549</td>\n",
       "      <td>113.538079</td>\n",
       "      <td>235.042465</td>\n",
       "      <td>40.456132</td>\n",
       "    </tr>\n",
       "    <tr>\n",
       "      <th>4</th>\n",
       "      <td>345.870135</td>\n",
       "      <td>45.077543</td>\n",
       "      <td>87.123308</td>\n",
       "      <td>62.183908</td>\n",
       "      <td>10.408008</td>\n",
       "      <td>120.786316</td>\n",
       "      <td>35.766781</td>\n",
       "      <td>123.499149</td>\n",
       "      <td>240.357655</td>\n",
       "      <td>47.799541</td>\n",
       "    </tr>\n",
       "    <tr>\n",
       "      <th>5</th>\n",
       "      <td>373.222767</td>\n",
       "      <td>49.734776</td>\n",
       "      <td>55.707293</td>\n",
       "      <td>60.740620</td>\n",
       "      <td>6.885030</td>\n",
       "      <td>119.974486</td>\n",
       "      <td>34.340903</td>\n",
       "      <td>120.904634</td>\n",
       "      <td>242.757602</td>\n",
       "      <td>35.304817</td>\n",
       "    </tr>\n",
       "    <tr>\n",
       "      <th>6</th>\n",
       "      <td>406.869007</td>\n",
       "      <td>55.308229</td>\n",
       "      <td>69.039671</td>\n",
       "      <td>62.386726</td>\n",
       "      <td>9.541734</td>\n",
       "      <td>88.845956</td>\n",
       "      <td>23.653418</td>\n",
       "      <td>123.170770</td>\n",
       "      <td>242.854270</td>\n",
       "      <td>40.635271</td>\n",
       "    </tr>\n",
       "    <tr>\n",
       "      <th>7</th>\n",
       "      <td>293.903529</td>\n",
       "      <td>54.463332</td>\n",
       "      <td>55.468960</td>\n",
       "      <td>63.861889</td>\n",
       "      <td>11.999090</td>\n",
       "      <td>75.735889</td>\n",
       "      <td>24.444151</td>\n",
       "      <td>110.125151</td>\n",
       "      <td>253.275743</td>\n",
       "      <td>43.241416</td>\n",
       "    </tr>\n",
       "    <tr>\n",
       "      <th>8</th>\n",
       "      <td>400.448649</td>\n",
       "      <td>51.212742</td>\n",
       "      <td>68.713686</td>\n",
       "      <td>66.445123</td>\n",
       "      <td>7.204692</td>\n",
       "      <td>-9.226051</td>\n",
       "      <td>34.972863</td>\n",
       "      <td>115.406754</td>\n",
       "      <td>267.904098</td>\n",
       "      <td>22.211765</td>\n",
       "    </tr>\n",
       "    <tr>\n",
       "      <th>9</th>\n",
       "      <td>409.996290</td>\n",
       "      <td>49.869027</td>\n",
       "      <td>78.643044</td>\n",
       "      <td>59.588795</td>\n",
       "      <td>10.994080</td>\n",
       "      <td>105.766924</td>\n",
       "      <td>30.740600</td>\n",
       "      <td>115.103298</td>\n",
       "      <td>242.219991</td>\n",
       "      <td>42.866949</td>\n",
       "    </tr>\n",
       "    <tr>\n",
       "      <th>10</th>\n",
       "      <td>444.887947</td>\n",
       "      <td>54.438434</td>\n",
       "      <td>82.758545</td>\n",
       "      <td>54.437222</td>\n",
       "      <td>7.699375</td>\n",
       "      <td>117.345810</td>\n",
       "      <td>36.740545</td>\n",
       "      <td>130.770159</td>\n",
       "      <td>244.567328</td>\n",
       "      <td>13.839457</td>\n",
       "    </tr>\n",
       "    <tr>\n",
       "      <th>11</th>\n",
       "      <td>426.197853</td>\n",
       "      <td>55.416949</td>\n",
       "      <td>45.758876</td>\n",
       "      <td>58.032196</td>\n",
       "      <td>11.140715</td>\n",
       "      <td>13.814263</td>\n",
       "      <td>27.111195</td>\n",
       "      <td>115.930608</td>\n",
       "      <td>245.700568</td>\n",
       "      <td>57.947131</td>\n",
       "    </tr>\n",
       "    <tr>\n",
       "      <th>12</th>\n",
       "      <td>257.800977</td>\n",
       "      <td>48.435681</td>\n",
       "      <td>90.522976</td>\n",
       "      <td>61.801489</td>\n",
       "      <td>10.289625</td>\n",
       "      <td>131.421915</td>\n",
       "      <td>31.389126</td>\n",
       "      <td>126.120968</td>\n",
       "      <td>251.234316</td>\n",
       "      <td>37.005363</td>\n",
       "    </tr>\n",
       "  </tbody>\n",
       "</table>\n",
       "</div>"
      ],
      "text/plain": [
       "        Бумага   Карандаш      Ручка    Тетрадь     Файлик     Коробка  \\\n",
       "0   379.369411  41.429775  86.248089  61.872077  10.532781  164.778849   \n",
       "1   530.534569  42.099639  69.382978  60.949448   9.454469   93.993990   \n",
       "2   357.190162  56.506811  61.976262  58.098694   7.539260   99.595259   \n",
       "3   348.463276  50.713992  62.719538  59.711250   8.935053  124.777159   \n",
       "4   345.870135  45.077543  87.123308  62.183908  10.408008  120.786316   \n",
       "5   373.222767  49.734776  55.707293  60.740620   6.885030  119.974486   \n",
       "6   406.869007  55.308229  69.039671  62.386726   9.541734   88.845956   \n",
       "7   293.903529  54.463332  55.468960  63.861889  11.999090   75.735889   \n",
       "8   400.448649  51.212742  68.713686  66.445123   7.204692   -9.226051   \n",
       "9   409.996290  49.869027  78.643044  59.588795  10.994080  105.766924   \n",
       "10  444.887947  54.438434  82.758545  54.437222   7.699375  117.345810   \n",
       "11  426.197853  55.416949  45.758876  58.032196  11.140715   13.814263   \n",
       "12  257.800977  48.435681  90.522976  61.801489  10.289625  131.421915   \n",
       "\n",
       "    Фломастер       Скотч     Ножницы     Маркер  \n",
       "0   43.032863  115.882788  244.873633  80.153647  \n",
       "1   25.690371  136.969439  261.665442  57.006888  \n",
       "2   36.144496  114.573288  232.968859  57.111798  \n",
       "3   30.315549  113.538079  235.042465  40.456132  \n",
       "4   35.766781  123.499149  240.357655  47.799541  \n",
       "5   34.340903  120.904634  242.757602  35.304817  \n",
       "6   23.653418  123.170770  242.854270  40.635271  \n",
       "7   24.444151  110.125151  253.275743  43.241416  \n",
       "8   34.972863  115.406754  267.904098  22.211765  \n",
       "9   30.740600  115.103298  242.219991  42.866949  \n",
       "10  36.740545  130.770159  244.567328  13.839457  \n",
       "11  27.111195  115.930608  245.700568  57.947131  \n",
       "12  31.389126  126.120968  251.234316  37.005363  "
      ]
     },
     "execution_count": 7,
     "metadata": {},
     "output_type": "execute_result"
    }
   ],
   "source": [
    "x_extrapol = p0 + np.random.normal(0, std, len(p0))\n",
    "pd.concat([dannief, pd.DataFrame([x_extrapol], columns=x_extrapol.index)]).reset_index(drop=True)"
   ]
  },
  {
   "cell_type": "markdown",
   "id": "ec0b18b1",
   "metadata": {},
   "source": [
    "## Оценки"
   ]
  },
  {
   "cell_type": "code",
   "execution_count": 8,
   "id": "c78418c9",
   "metadata": {},
   "outputs": [
    {
     "data": {
      "text/plain": [
       "Бумага       0.151734\n",
       "Карандаш     0.103084\n",
       "Ручка        0.191278\n",
       "Тетрадь      0.050859\n",
       "Файлик       0.183182\n",
       "Коробка      0.517605\n",
       "Фломастер    0.185306\n",
       "Скотч        0.065368\n",
       "Ножницы      0.041308\n",
       "Маркер       0.387876\n",
       "dtype: float64"
      ]
     },
     "execution_count": 8,
     "metadata": {},
     "output_type": "execute_result"
    }
   ],
   "source": [
    "reliability = std / p0\n",
    "reliability"
   ]
  },
  {
   "cell_type": "markdown",
   "id": "c06c0619",
   "metadata": {},
   "source": [
    "### Уловие 1 $ X_i - \\hat{p_0} < 2\\hat{\\sigma}: \\forall i$"
   ]
  },
  {
   "cell_type": "code",
   "execution_count": 9,
   "id": "12aa0c37",
   "metadata": {},
   "outputs": [
    {
     "data": {
      "text/plain": [
       "Бумага       False\n",
       "Карандаш      True\n",
       "Ручка         True\n",
       "Тетрадь       True\n",
       "Файлик        True\n",
       "Коробка       True\n",
       "Фломастер     True\n",
       "Скотч        False\n",
       "Ножницы      False\n",
       "Маркер       False\n",
       "dtype: bool"
      ]
     },
     "execution_count": 9,
     "metadata": {},
     "output_type": "execute_result"
    }
   ],
   "source": [
    "a1 = ((dannief - p0) < 2 * std).all()\n",
    "a1"
   ]
  },
  {
   "cell_type": "markdown",
   "id": "2fae833b",
   "metadata": {},
   "source": [
    "### Условие 2 $ \\hat{p_0} > 2\\hat{\\sigma} $"
   ]
  },
  {
   "cell_type": "code",
   "execution_count": 10,
   "id": "1dbdcb38",
   "metadata": {},
   "outputs": [
    {
     "data": {
      "text/plain": [
       "Бумага        True\n",
       "Карандаш      True\n",
       "Ручка         True\n",
       "Тетрадь       True\n",
       "Файлик        True\n",
       "Коробка      False\n",
       "Фломастер     True\n",
       "Скотч         True\n",
       "Ножницы       True\n",
       "Маркер        True\n",
       "dtype: bool"
      ]
     },
     "execution_count": 10,
     "metadata": {},
     "output_type": "execute_result"
    }
   ],
   "source": [
    "a2 = p0 > 2 * std\n",
    "a2"
   ]
  },
  {
   "cell_type": "markdown",
   "id": "c656ab05",
   "metadata": {},
   "source": [
    "### Условие 3 $ X_i > 0: \\forall i $"
   ]
  },
  {
   "cell_type": "code",
   "execution_count": 11,
   "id": "f82cc21c",
   "metadata": {
    "scrolled": true
   },
   "outputs": [
    {
     "data": {
      "text/plain": [
       "Бумага        True\n",
       "Карандаш      True\n",
       "Ручка         True\n",
       "Тетрадь       True\n",
       "Файлик        True\n",
       "Коробка      False\n",
       "Фломастер     True\n",
       "Скотч         True\n",
       "Ножницы       True\n",
       "Маркер        True\n",
       "dtype: bool"
      ]
     },
     "execution_count": 11,
     "metadata": {},
     "output_type": "execute_result"
    }
   ],
   "source": [
    "a3 = (dannief > 0).all()\n",
    "a3"
   ]
  },
  {
   "cell_type": "markdown",
   "id": "22489c58",
   "metadata": {},
   "source": [
    "### Цветовая классификация"
   ]
  },
  {
   "cell_type": "code",
   "execution_count": 12,
   "id": "10d9b9ec",
   "metadata": {},
   "outputs": [
    {
     "data": {
      "text/plain": [
       "Бумага        Желтый\n",
       "Карандаш     Зеленый\n",
       "Ручка        Зеленый\n",
       "Тетрадь      Зеленый\n",
       "Файлик       Зеленый\n",
       "Коробка      Красный\n",
       "Фломастер    Зеленый\n",
       "Скотч         Желтый\n",
       "Ножницы       Желтый\n",
       "Маркер        Желтый\n",
       "dtype: object"
      ]
     },
     "execution_count": 12,
     "metadata": {},
     "output_type": "execute_result"
    }
   ],
   "source": [
    "product_color = pd.Series(dtype='string')\n",
    "for name in dannief.columns:\n",
    "    if (not a3[name]):\n",
    "        product_color[name] = 'Красный'\n",
    "    elif (not a1[name] and not a2[name]):\n",
    "        product_color[name] = 'Оранжевый'\n",
    "    elif (not a1[name] or not a2[name]):\n",
    "        product_color[name] = 'Желтый'\n",
    "    else:\n",
    "        product_color[name] = 'Зеленый'\n",
    "product_color"
   ]
  },
  {
   "cell_type": "raw",
   "id": "e427ec44",
   "metadata": {},
   "source": []
  }
 ],
 "metadata": {
  "kernelspec": {
   "display_name": "Python 3 (ipykernel)",
   "language": "python",
   "name": "python3"
  },
  "language_info": {
   "codemirror_mode": {
    "name": "ipython",
    "version": 3
   },
   "file_extension": ".py",
   "mimetype": "text/x-python",
   "name": "python",
   "nbconvert_exporter": "python",
   "pygments_lexer": "ipython3",
   "version": "3.10.9"
  }
 },
 "nbformat": 4,
 "nbformat_minor": 5
}
